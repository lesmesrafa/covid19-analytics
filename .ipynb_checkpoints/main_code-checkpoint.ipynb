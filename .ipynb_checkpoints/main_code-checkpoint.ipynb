{
 "cells": [
  {
   "cell_type": "markdown",
   "id": "pacific-companion",
   "metadata": {},
   "source": [
    "# DATA PROCESSES ASSIGNMENT"
   ]
  },
  {
   "cell_type": "markdown",
   "id": "aquatic-minute",
   "metadata": {},
   "source": [
    "## Understand the business\n",
    "Clearly define your business and note down the problem you are solving. Do a fundamental analysis on whether providing a data solution will add value to your customer and company or not.\n",
    "\n",
    "TODO\n",
    "\n",
    "In this regard,\n",
    "you must consider univariate and bivariate analysis, survival curves (e.g.,\n",
    "Kaplan–Meier), and any other analysis that may help to understand the survival\n",
    "of a patient. You must also train and test different models to predict the\n",
    "survival (the most important part of the technical execution is the previous\n",
    "analysis though).\n",
    "\n",
    "\n",
    "\n",
    "Steps in Data Exploration and Preprocessing:\\\n",
    "Identification of variables and data types\\\n",
    "Analyzing the basic metrics\\\n",
    "Non-Graphical Univariate Analysis\\\n",
    "Graphical Univariate Analysis\\\n",
    "Bivariate Analysis\\\n",
    "Variable transformations\\\n",
    "Missing value treatment\\\n",
    "Outlier treatment\\\n",
    "Correlation Analysis\\\n",
    "Dimensionality Reduction\\\n",
    "\n",
    "TODO\n",
    "https://towardsai.net/p/data-analysis/exploratory-data-analysis-in-python-ebdf643a33f6\n",
    "\n",
    "https://mode.com/blog/python-data-visualization-libraries/"
   ]
  },
  {
   "cell_type": "markdown",
   "id": "korean-pointer",
   "metadata": {},
   "source": [
    "## Data exploration\n",
    "Do you have enough data? — Ask this question if you don’t have data, don’t waste your time and money in making models, evaluating — stop it. Many data science projects are not profitable. Collect data first and build a long-term pipeline of structured data collection. Go for digital transformation, add digital data collection and wait. It is a long-term investment.\n",
    "Collect your data and guard it with all your might. Self-data collection is a gold mine which only you have it and no one else."
   ]
  },
  {
   "cell_type": "code",
   "execution_count": 10,
   "id": "indian-performer",
   "metadata": {},
   "outputs": [],
   "source": [
    "import pandas as pd\n",
    "import numpy as np\n",
    "import matplotlib as plt \n",
    "import seaborn as sns \n",
    "from IPython.display import display"
   ]
  },
  {
   "cell_type": "code",
   "execution_count": 74,
   "id": "disciplinary-scanning",
   "metadata": {},
   "outputs": [],
   "source": [
    "filepath = \"COVID19_data.csv\"\n",
    "col_names = [\"id\", \"age\", \"sex\", \"days_hospital\", \"days_icu\", \"exitus\", \"destination\", \"temp\", \"heart_rate\", \"glucose\", \"sat_o2\", \"blood_pres_sys\", \"blood_pres_dias\"]\n",
    "df = pd.read_csv(filepath, header= 0, names= col_names).drop(\"id\", axis= 1)"
   ]
  },
  {
   "cell_type": "markdown",
   "id": "compatible-promise",
   "metadata": {},
   "source": [
    "#### Identification of variables and data types"
   ]
  },
  {
   "cell_type": "code",
   "execution_count": 75,
   "id": "excess-james",
   "metadata": {},
   "outputs": [
    {
     "name": "stdout",
     "output_type": "stream",
     "text": [
      "Number of patients: 2054\n",
      "Number of variables to study: 12\n"
     ]
    },
    {
     "data": {
      "text/html": [
       "<style  type=\"text/css\" >\n",
       "</style><table id=\"T_69731_\" ><thead>    <tr>        <th class=\"blank level0\" ></th>        <th class=\"col_heading level0 col0\" >age</th>        <th class=\"col_heading level0 col1\" >sex</th>        <th class=\"col_heading level0 col2\" >days_hospital</th>        <th class=\"col_heading level0 col3\" >days_icu</th>        <th class=\"col_heading level0 col4\" >exitus</th>        <th class=\"col_heading level0 col5\" >destination</th>        <th class=\"col_heading level0 col6\" >temp</th>        <th class=\"col_heading level0 col7\" >heart_rate</th>        <th class=\"col_heading level0 col8\" >glucose</th>        <th class=\"col_heading level0 col9\" >sat_o2</th>        <th class=\"col_heading level0 col10\" >blood_pres_sys</th>        <th class=\"col_heading level0 col11\" >blood_pres_dias</th>    </tr></thead><tbody>\n",
       "                <tr>\n",
       "                        <th id=\"T_69731_level0_row0\" class=\"row_heading level0 row0\" >0</th>\n",
       "                        <td id=\"T_69731_row0_col0\" class=\"data row0 col0\" >15.000000</td>\n",
       "                        <td id=\"T_69731_row0_col1\" class=\"data row0 col1\" >FEMALE</td>\n",
       "                        <td id=\"T_69731_row0_col2\" class=\"data row0 col2\" >4</td>\n",
       "                        <td id=\"T_69731_row0_col3\" class=\"data row0 col3\" >0</td>\n",
       "                        <td id=\"T_69731_row0_col4\" class=\"data row0 col4\" >NO</td>\n",
       "                        <td id=\"T_69731_row0_col5\" class=\"data row0 col5\" >nan</td>\n",
       "                        <td id=\"T_69731_row0_col6\" class=\"data row0 col6\" >37.000000</td>\n",
       "                        <td id=\"T_69731_row0_col7\" class=\"data row0 col7\" >0</td>\n",
       "                        <td id=\"T_69731_row0_col8\" class=\"data row0 col8\" >0</td>\n",
       "                        <td id=\"T_69731_row0_col9\" class=\"data row0 col9\" >92</td>\n",
       "                        <td id=\"T_69731_row0_col10\" class=\"data row0 col10\" >0</td>\n",
       "                        <td id=\"T_69731_row0_col11\" class=\"data row0 col11\" >0</td>\n",
       "            </tr>\n",
       "            <tr>\n",
       "                        <th id=\"T_69731_level0_row1\" class=\"row_heading level0 row1\" >1</th>\n",
       "                        <td id=\"T_69731_row1_col0\" class=\"data row1 col0\" >18.000000</td>\n",
       "                        <td id=\"T_69731_row1_col1\" class=\"data row1 col1\" >FEMALE</td>\n",
       "                        <td id=\"T_69731_row1_col2\" class=\"data row1 col2\" >4</td>\n",
       "                        <td id=\"T_69731_row1_col3\" class=\"data row1 col3\" >0</td>\n",
       "                        <td id=\"T_69731_row1_col4\" class=\"data row1 col4\" >NO</td>\n",
       "                        <td id=\"T_69731_row1_col5\" class=\"data row1 col5\" >ADMISSION</td>\n",
       "                        <td id=\"T_69731_row1_col6\" class=\"data row1 col6\" >37.300000</td>\n",
       "                        <td id=\"T_69731_row1_col7\" class=\"data row1 col7\" >105</td>\n",
       "                        <td id=\"T_69731_row1_col8\" class=\"data row1 col8\" >0</td>\n",
       "                        <td id=\"T_69731_row1_col9\" class=\"data row1 col9\" >97</td>\n",
       "                        <td id=\"T_69731_row1_col10\" class=\"data row1 col10\" >0</td>\n",
       "                        <td id=\"T_69731_row1_col11\" class=\"data row1 col11\" >0</td>\n",
       "            </tr>\n",
       "            <tr>\n",
       "                        <th id=\"T_69731_level0_row2\" class=\"row_heading level0 row2\" >2</th>\n",
       "                        <td id=\"T_69731_row2_col0\" class=\"data row2 col0\" >21.000000</td>\n",
       "                        <td id=\"T_69731_row2_col1\" class=\"data row2 col1\" >MALE</td>\n",
       "                        <td id=\"T_69731_row2_col2\" class=\"data row2 col2\" >7</td>\n",
       "                        <td id=\"T_69731_row2_col3\" class=\"data row2 col3\" >0</td>\n",
       "                        <td id=\"T_69731_row2_col4\" class=\"data row2 col4\" >NO</td>\n",
       "                        <td id=\"T_69731_row2_col5\" class=\"data row2 col5\" >nan</td>\n",
       "                        <td id=\"T_69731_row2_col6\" class=\"data row2 col6\" >38.500000</td>\n",
       "                        <td id=\"T_69731_row2_col7\" class=\"data row2 col7\" >112</td>\n",
       "                        <td id=\"T_69731_row2_col8\" class=\"data row2 col8\" >0</td>\n",
       "                        <td id=\"T_69731_row2_col9\" class=\"data row2 col9\" >95</td>\n",
       "                        <td id=\"T_69731_row2_col10\" class=\"data row2 col10\" >85</td>\n",
       "                        <td id=\"T_69731_row2_col11\" class=\"data row2 col11\" >47</td>\n",
       "            </tr>\n",
       "            <tr>\n",
       "                        <th id=\"T_69731_level0_row3\" class=\"row_heading level0 row3\" >3</th>\n",
       "                        <td id=\"T_69731_row3_col0\" class=\"data row3 col0\" >21.000000</td>\n",
       "                        <td id=\"T_69731_row3_col1\" class=\"data row3 col1\" >MALE</td>\n",
       "                        <td id=\"T_69731_row3_col2\" class=\"data row3 col2\" >10</td>\n",
       "                        <td id=\"T_69731_row3_col3\" class=\"data row3 col3\" >0</td>\n",
       "                        <td id=\"T_69731_row3_col4\" class=\"data row3 col4\" >NO</td>\n",
       "                        <td id=\"T_69731_row3_col5\" class=\"data row3 col5\" >ADMISSION</td>\n",
       "                        <td id=\"T_69731_row3_col6\" class=\"data row3 col6\" >39.200000</td>\n",
       "                        <td id=\"T_69731_row3_col7\" class=\"data row3 col7\" >113</td>\n",
       "                        <td id=\"T_69731_row3_col8\" class=\"data row3 col8\" >0</td>\n",
       "                        <td id=\"T_69731_row3_col9\" class=\"data row3 col9\" >97</td>\n",
       "                        <td id=\"T_69731_row3_col10\" class=\"data row3 col10\" >0</td>\n",
       "                        <td id=\"T_69731_row3_col11\" class=\"data row3 col11\" >0</td>\n",
       "            </tr>\n",
       "            <tr>\n",
       "                        <th id=\"T_69731_level0_row4\" class=\"row_heading level0 row4\" >4</th>\n",
       "                        <td id=\"T_69731_row4_col0\" class=\"data row4 col0\" >22.000000</td>\n",
       "                        <td id=\"T_69731_row4_col1\" class=\"data row4 col1\" >MALE</td>\n",
       "                        <td id=\"T_69731_row4_col2\" class=\"data row4 col2\" >4</td>\n",
       "                        <td id=\"T_69731_row4_col3\" class=\"data row4 col3\" >0</td>\n",
       "                        <td id=\"T_69731_row4_col4\" class=\"data row4 col4\" >NO</td>\n",
       "                        <td id=\"T_69731_row4_col5\" class=\"data row4 col5\" >nan</td>\n",
       "                        <td id=\"T_69731_row4_col6\" class=\"data row4 col6\" >36.300000</td>\n",
       "                        <td id=\"T_69731_row4_col7\" class=\"data row4 col7\" >80</td>\n",
       "                        <td id=\"T_69731_row4_col8\" class=\"data row4 col8\" >0</td>\n",
       "                        <td id=\"T_69731_row4_col9\" class=\"data row4 col9\" >92</td>\n",
       "                        <td id=\"T_69731_row4_col10\" class=\"data row4 col10\" >111</td>\n",
       "                        <td id=\"T_69731_row4_col11\" class=\"data row4 col11\" >70</td>\n",
       "            </tr>\n",
       "    </tbody></table>"
      ],
      "text/plain": [
       "<pandas.io.formats.style.Styler at 0x7f58c83f1a50>"
      ]
     },
     "execution_count": 75,
     "metadata": {},
     "output_type": "execute_result"
    }
   ],
   "source": [
    "print(f\"Number of patients: {df.shape[0]}\")\n",
    "print(f\"Number of variables to study: {df.shape[1]}\")\n",
    "df.head().style"
   ]
  },
  {
   "cell_type": "code",
   "execution_count": 73,
   "id": "regulated-sensitivity",
   "metadata": {},
   "outputs": [
    {
     "name": "stdout",
     "output_type": "stream",
     "text": [
      "Data types in Covid-19 dataset: \n",
      "\n",
      "age                float64\n",
      "sex                 object\n",
      "days_hospital        int64\n",
      "days_icu             int64\n",
      "exitus              object\n",
      "destination         object\n",
      "temp               float64\n",
      "heart_rate           int64\n",
      "glucose              int64\n",
      "sat_o2               int64\n",
      "blood_pres_sys       int64\n",
      "blood_pres_dias      int64\n",
      "dtype: object\n"
     ]
    }
   ],
   "source": [
    "print(f\"Data types in Covid-19 dataset: \\n\\n{df.dtypes}\")"
   ]
  },
  {
   "cell_type": "markdown",
   "id": "yellow-shield",
   "metadata": {},
   "source": [
    "#### Analyzing basic metrics"
   ]
  },
  {
   "cell_type": "code",
   "execution_count": 76,
   "id": "beautiful-brazilian",
   "metadata": {},
   "outputs": [
    {
     "data": {
      "text/html": [
       "<div>\n",
       "<style scoped>\n",
       "    .dataframe tbody tr th:only-of-type {\n",
       "        vertical-align: middle;\n",
       "    }\n",
       "\n",
       "    .dataframe tbody tr th {\n",
       "        vertical-align: top;\n",
       "    }\n",
       "\n",
       "    .dataframe thead th {\n",
       "        text-align: right;\n",
       "    }\n",
       "</style>\n",
       "<table border=\"1\" class=\"dataframe\">\n",
       "  <thead>\n",
       "    <tr style=\"text-align: right;\">\n",
       "      <th></th>\n",
       "      <th>age</th>\n",
       "      <th>days_hospital</th>\n",
       "      <th>days_icu</th>\n",
       "      <th>temp</th>\n",
       "      <th>heart_rate</th>\n",
       "      <th>glucose</th>\n",
       "      <th>sat_o2</th>\n",
       "      <th>blood_pres_sys</th>\n",
       "      <th>blood_pres_dias</th>\n",
       "    </tr>\n",
       "  </thead>\n",
       "  <tbody>\n",
       "    <tr>\n",
       "      <th>count</th>\n",
       "      <td>2050.000000</td>\n",
       "      <td>2054.000000</td>\n",
       "      <td>2054.000000</td>\n",
       "      <td>2054.000000</td>\n",
       "      <td>2054.000000</td>\n",
       "      <td>2054.000000</td>\n",
       "      <td>2054.000000</td>\n",
       "      <td>2054.000000</td>\n",
       "      <td>2054.000000</td>\n",
       "    </tr>\n",
       "    <tr>\n",
       "      <th>mean</th>\n",
       "      <td>70.856585</td>\n",
       "      <td>8.118793</td>\n",
       "      <td>0.355404</td>\n",
       "      <td>28.386319</td>\n",
       "      <td>70.787731</td>\n",
       "      <td>1.776047</td>\n",
       "      <td>73.397760</td>\n",
       "      <td>83.571568</td>\n",
       "      <td>48.328140</td>\n",
       "    </tr>\n",
       "    <tr>\n",
       "      <th>std</th>\n",
       "      <td>20.456931</td>\n",
       "      <td>6.177872</td>\n",
       "      <td>2.173721</td>\n",
       "      <td>15.419158</td>\n",
       "      <td>41.802038</td>\n",
       "      <td>20.434622</td>\n",
       "      <td>37.863716</td>\n",
       "      <td>67.450853</td>\n",
       "      <td>44.225438</td>\n",
       "    </tr>\n",
       "    <tr>\n",
       "      <th>min</th>\n",
       "      <td>15.000000</td>\n",
       "      <td>0.000000</td>\n",
       "      <td>0.000000</td>\n",
       "      <td>0.000000</td>\n",
       "      <td>0.000000</td>\n",
       "      <td>0.000000</td>\n",
       "      <td>0.000000</td>\n",
       "      <td>0.000000</td>\n",
       "      <td>0.000000</td>\n",
       "    </tr>\n",
       "    <tr>\n",
       "      <th>25%</th>\n",
       "      <td>57.000000</td>\n",
       "      <td>4.000000</td>\n",
       "      <td>0.000000</td>\n",
       "      <td>35.400000</td>\n",
       "      <td>63.000000</td>\n",
       "      <td>0.000000</td>\n",
       "      <td>81.000000</td>\n",
       "      <td>0.000000</td>\n",
       "      <td>0.000000</td>\n",
       "    </tr>\n",
       "    <tr>\n",
       "      <th>50%</th>\n",
       "      <td>68.000000</td>\n",
       "      <td>7.000000</td>\n",
       "      <td>0.000000</td>\n",
       "      <td>36.400000</td>\n",
       "      <td>84.000000</td>\n",
       "      <td>0.000000</td>\n",
       "      <td>93.000000</td>\n",
       "      <td>115.000000</td>\n",
       "      <td>64.000000</td>\n",
       "    </tr>\n",
       "    <tr>\n",
       "      <th>75%</th>\n",
       "      <td>98.000000</td>\n",
       "      <td>10.000000</td>\n",
       "      <td>0.000000</td>\n",
       "      <td>36.900000</td>\n",
       "      <td>98.000000</td>\n",
       "      <td>0.000000</td>\n",
       "      <td>96.000000</td>\n",
       "      <td>137.000000</td>\n",
       "      <td>79.000000</td>\n",
       "    </tr>\n",
       "    <tr>\n",
       "      <th>max</th>\n",
       "      <td>189.000000</td>\n",
       "      <td>98.000000</td>\n",
       "      <td>36.000000</td>\n",
       "      <td>40.100000</td>\n",
       "      <td>593.000000</td>\n",
       "      <td>448.000000</td>\n",
       "      <td>99.000000</td>\n",
       "      <td>772.000000</td>\n",
       "      <td>845.000000</td>\n",
       "    </tr>\n",
       "  </tbody>\n",
       "</table>\n",
       "</div>"
      ],
      "text/plain": [
       "               age  days_hospital     days_icu         temp   heart_rate  \\\n",
       "count  2050.000000    2054.000000  2054.000000  2054.000000  2054.000000   \n",
       "mean     70.856585       8.118793     0.355404    28.386319    70.787731   \n",
       "std      20.456931       6.177872     2.173721    15.419158    41.802038   \n",
       "min      15.000000       0.000000     0.000000     0.000000     0.000000   \n",
       "25%      57.000000       4.000000     0.000000    35.400000    63.000000   \n",
       "50%      68.000000       7.000000     0.000000    36.400000    84.000000   \n",
       "75%      98.000000      10.000000     0.000000    36.900000    98.000000   \n",
       "max     189.000000      98.000000    36.000000    40.100000   593.000000   \n",
       "\n",
       "           glucose       sat_o2  blood_pres_sys  blood_pres_dias  \n",
       "count  2054.000000  2054.000000     2054.000000      2054.000000  \n",
       "mean      1.776047    73.397760       83.571568        48.328140  \n",
       "std      20.434622    37.863716       67.450853        44.225438  \n",
       "min       0.000000     0.000000        0.000000         0.000000  \n",
       "25%       0.000000    81.000000        0.000000         0.000000  \n",
       "50%       0.000000    93.000000      115.000000        64.000000  \n",
       "75%       0.000000    96.000000      137.000000        79.000000  \n",
       "max     448.000000    99.000000      772.000000       845.000000  "
      ]
     },
     "execution_count": 76,
     "metadata": {},
     "output_type": "execute_result"
    }
   ],
   "source": [
    "df.describe()"
   ]
  },
  {
   "cell_type": "markdown",
   "id": "flush-penny",
   "metadata": {},
   "source": [
    "#### Non-graphical univariate analysis\n",
    "##### Unique values"
   ]
  },
  {
   "cell_type": "code",
   "execution_count": 82,
   "id": "ahead-plate",
   "metadata": {},
   "outputs": [
    {
     "data": {
      "text/plain": [
       "98.0     574\n",
       "77.0     140\n",
       "74.0     105\n",
       "72.0      94\n",
       "57.0      77\n",
       "        ... \n",
       "15.0       1\n",
       "106.0      1\n",
       "105.0      1\n",
       "18.0       1\n",
       "102.0      1\n",
       "Name: age, Length: 62, dtype: int64"
      ]
     },
     "execution_count": 82,
     "metadata": {},
     "output_type": "execute_result"
    }
   ],
   "source": [
    "df[\"age\"].value_counts()"
   ]
  },
  {
   "cell_type": "code",
   "execution_count": null,
   "id": "beautiful-pantyhose",
   "metadata": {},
   "outputs": [],
   "source": []
  },
  {
   "cell_type": "code",
   "execution_count": null,
   "id": "fabulous-neighborhood",
   "metadata": {},
   "outputs": [],
   "source": []
  },
  {
   "cell_type": "code",
   "execution_count": null,
   "id": "champion-anniversary",
   "metadata": {},
   "outputs": [],
   "source": []
  },
  {
   "cell_type": "code",
   "execution_count": null,
   "id": "proprietary-intro",
   "metadata": {},
   "outputs": [],
   "source": []
  },
  {
   "cell_type": "markdown",
   "id": "purple-making",
   "metadata": {},
   "source": [
    "## Data preparation\n",
    "Now you have your data, prepare it, clean it, store it properly, update it, and arrange it in a meaningful way when it is ready."
   ]
  },
  {
   "cell_type": "markdown",
   "id": "trained-fault",
   "metadata": {},
   "source": [
    "## Data problem research\n",
    "Define your data problem and see if there are readily available solutions to it by service providers like Google Cloud, AWS or Azure, or any other API services. Try not to reinvent the wheel by building some generic models like recommender systems, OCRs, etc. These are now available in the plug-and-play fashion and are very cheap, cheaper than the time, energy, money, and computation power you will spend developing a half-accurate model."
   ]
  },
  {
   "cell_type": "markdown",
   "id": "other-shock",
   "metadata": {},
   "source": [
    "## Predictive model and data transformation\n",
    "Now quickly come up with simple models. Note that all solutions need not require machine learning or deep learning. Rule-based models work just as fine, sometimes even better. Transform your data based on a model that you have selected. In the first iteration, try all the simple models and decide on a benchmark."
   ]
  },
  {
   "cell_type": "markdown",
   "id": "governmental-governor",
   "metadata": {},
   "source": [
    "## Testing validation\n",
    "Define an evaluation metric based on your business problem and test your simple model in this metric. This metric will be your benchmark as we advance."
   ]
  },
  {
   "cell_type": "markdown",
   "id": "thermal-valve",
   "metadata": {},
   "source": [
    "## Model evaluation\n",
    "Based on your Validation, rework your model from step 6 and recalculate the evaluation metric to see if you can do better than the benchmark. It may happen that a simple model will solve your problem, but this is rare.\n",
    "One more insight that you will get from steps 5 and 6 is your data is sufficient or not. You may have to spend some more time on steps 2 and 3 then."
   ]
  },
  {
   "cell_type": "markdown",
   "id": "hollywood-cotton",
   "metadata": {},
   "source": [
    "## Solution deployment\n",
    "Now that you are happy with the evaluation and this model solves your problem deploy the model based on your use case. The best way to consume your model is to build an API around it and integrate that into the solution.\n",
    "If possible, deploy your model using Docker. Dockerization will help in easy deployment. Making an API around your model will help you upgrade without downtime.\n",
    "Deployment is one thing that is primarily dependent on how you want to consume the model."
   ]
  },
  {
   "cell_type": "markdown",
   "id": "driven-garbage",
   "metadata": {},
   "source": [
    "## Optimization\n",
    "Optimization is the last step and perhaps most crucial step as well, as, and when you collect more data, you should upgrade your model and see if it is appropriately solving your purpose. Did it solve the business problem of step 1? If not! Start over.\n"
   ]
  },
  {
   "cell_type": "code",
   "execution_count": null,
   "id": "interstate-april",
   "metadata": {},
   "outputs": [],
   "source": []
  }
 ],
 "metadata": {
  "kernelspec": {
   "display_name": "Python 3",
   "language": "python",
   "name": "python3"
  },
  "language_info": {
   "codemirror_mode": {
    "name": "ipython",
    "version": 3
   },
   "file_extension": ".py",
   "mimetype": "text/x-python",
   "name": "python",
   "nbconvert_exporter": "python",
   "pygments_lexer": "ipython3",
   "version": "3.7.6"
  }
 },
 "nbformat": 4,
 "nbformat_minor": 5
}

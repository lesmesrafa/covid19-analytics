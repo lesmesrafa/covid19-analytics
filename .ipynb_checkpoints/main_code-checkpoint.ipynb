{
 "cells": [
  {
   "cell_type": "markdown",
   "id": "pacific-companion",
   "metadata": {},
   "source": [
    "# DATA PROCESSES ASSIGNMENT"
   ]
  },
  {
   "cell_type": "markdown",
   "id": "aquatic-minute",
   "metadata": {},
   "source": [
    "## Understand the business\n",
    "Clearly define your business and note down the problem you are solving. Do a fundamental analysis on whether providing a data solution will add value to your customer and company or not.\n",
    "\n",
    "TODO\n",
    "\n",
    "In this regard,\n",
    "you must consider univariate and bivariate analysis, survival curves (e.g.,\n",
    "Kaplan–Meier), and any other analysis that may help to understand the survival\n",
    "of a patient. You must also train and test different models to predict the\n",
    "survival (the most important part of the technical execution is the previous\n",
    "analysis though).\n",
    "\n",
    "\n",
    "\n",
    "Steps in Data Exploration and Preprocessing:\\\n",
    "Identification of variables and data types\\\n",
    "Analyzing the basic metrics\\\n",
    "Non-Graphical Univariate Analysis\\\n",
    "Graphical Univariate Analysis\\\n",
    "Bivariate Analysis\\\n",
    "Variable transformations\\\n",
    "Missing value treatment\\\n",
    "Outlier treatment\\\n",
    "Correlation Analysis\\\n",
    "Dimensionality Reduction\\\n",
    "\n",
    "TODO\n",
    "https://towardsai.net/p/data-analysis/exploratory-data-analysis-in-python-ebdf643a33f6\n",
    "\n",
    "https://mode.com/blog/python-data-visualization-libraries/"
   ]
  },
  {
   "cell_type": "markdown",
   "id": "korean-pointer",
   "metadata": {},
   "source": [
    "## Data exploration\n",
    "Do you have enough data? — Ask this question if you don’t have data, don’t waste your time and money in making models, evaluating — stop it. Many data science projects are not profitable. Collect data first and build a long-term pipeline of structured data collection. Go for digital transformation, add digital data collection and wait. It is a long-term investment.\n",
    "Collect your data and guard it with all your might. Self-data collection is a gold mine which only you have it and no one else."
   ]
  },
  {
   "cell_type": "code",
   "execution_count": 115,
   "id": "indian-performer",
   "metadata": {},
   "outputs": [],
   "source": [
    "import pandas as pd\n",
    "import numpy as np\n",
    "import matplotlib.pyplot as plt \n",
    "import seaborn as sns \n",
    "from IPython.display import display"
   ]
  },
  {
   "cell_type": "code",
   "execution_count": 77,
   "id": "disciplinary-scanning",
   "metadata": {},
   "outputs": [],
   "source": [
    "filepath = \"COVID19_data.csv\"\n",
    "col_names = [\"id\", \"age\", \"sex\", \"days_hospital\", \"days_icu\", \"exitus\", \"destination\", \"temp\", \"heart_rate\", \"glucose\", \"sat_o2\", \"blood_pres_sys\", \"blood_pres_dias\"]\n",
    "df = pd.read_csv(filepath, header=0, names=col_names).drop(\"id\", axis=1)"
   ]
  },
  {
   "cell_type": "markdown",
   "id": "compatible-promise",
   "metadata": {},
   "source": [
    "#### Identification of variables and data types"
   ]
  },
  {
   "cell_type": "code",
   "execution_count": 78,
   "id": "excess-james",
   "metadata": {},
   "outputs": [
    {
     "name": "stdout",
     "output_type": "stream",
     "text": [
      "Number of patients: 2054\n",
      "Number of variables to study: 12\n"
     ]
    },
    {
     "data": {
      "text/html": [
       "<div>\n",
       "<style scoped>\n",
       "    .dataframe tbody tr th:only-of-type {\n",
       "        vertical-align: middle;\n",
       "    }\n",
       "\n",
       "    .dataframe tbody tr th {\n",
       "        vertical-align: top;\n",
       "    }\n",
       "\n",
       "    .dataframe thead th {\n",
       "        text-align: right;\n",
       "    }\n",
       "</style>\n",
       "<table border=\"1\" class=\"dataframe\">\n",
       "  <thead>\n",
       "    <tr style=\"text-align: right;\">\n",
       "      <th></th>\n",
       "      <th>age</th>\n",
       "      <th>sex</th>\n",
       "      <th>days_hospital</th>\n",
       "      <th>days_icu</th>\n",
       "      <th>exitus</th>\n",
       "      <th>destination</th>\n",
       "      <th>temp</th>\n",
       "      <th>heart_rate</th>\n",
       "      <th>glucose</th>\n",
       "      <th>sat_o2</th>\n",
       "      <th>blood_pres_sys</th>\n",
       "      <th>blood_pres_dias</th>\n",
       "    </tr>\n",
       "  </thead>\n",
       "  <tbody>\n",
       "    <tr>\n",
       "      <th>0</th>\n",
       "      <td>15.0</td>\n",
       "      <td>FEMALE</td>\n",
       "      <td>4</td>\n",
       "      <td>0</td>\n",
       "      <td>NO</td>\n",
       "      <td>NaN</td>\n",
       "      <td>37.0</td>\n",
       "      <td>0</td>\n",
       "      <td>0</td>\n",
       "      <td>92</td>\n",
       "      <td>0</td>\n",
       "      <td>0</td>\n",
       "    </tr>\n",
       "    <tr>\n",
       "      <th>1</th>\n",
       "      <td>18.0</td>\n",
       "      <td>FEMALE</td>\n",
       "      <td>4</td>\n",
       "      <td>0</td>\n",
       "      <td>NO</td>\n",
       "      <td>ADMISSION</td>\n",
       "      <td>37.3</td>\n",
       "      <td>105</td>\n",
       "      <td>0</td>\n",
       "      <td>97</td>\n",
       "      <td>0</td>\n",
       "      <td>0</td>\n",
       "    </tr>\n",
       "    <tr>\n",
       "      <th>2</th>\n",
       "      <td>21.0</td>\n",
       "      <td>MALE</td>\n",
       "      <td>7</td>\n",
       "      <td>0</td>\n",
       "      <td>NO</td>\n",
       "      <td>NaN</td>\n",
       "      <td>38.5</td>\n",
       "      <td>112</td>\n",
       "      <td>0</td>\n",
       "      <td>95</td>\n",
       "      <td>85</td>\n",
       "      <td>47</td>\n",
       "    </tr>\n",
       "    <tr>\n",
       "      <th>3</th>\n",
       "      <td>21.0</td>\n",
       "      <td>MALE</td>\n",
       "      <td>10</td>\n",
       "      <td>0</td>\n",
       "      <td>NO</td>\n",
       "      <td>ADMISSION</td>\n",
       "      <td>39.2</td>\n",
       "      <td>113</td>\n",
       "      <td>0</td>\n",
       "      <td>97</td>\n",
       "      <td>0</td>\n",
       "      <td>0</td>\n",
       "    </tr>\n",
       "    <tr>\n",
       "      <th>4</th>\n",
       "      <td>22.0</td>\n",
       "      <td>MALE</td>\n",
       "      <td>4</td>\n",
       "      <td>0</td>\n",
       "      <td>NO</td>\n",
       "      <td>NaN</td>\n",
       "      <td>36.3</td>\n",
       "      <td>80</td>\n",
       "      <td>0</td>\n",
       "      <td>92</td>\n",
       "      <td>111</td>\n",
       "      <td>70</td>\n",
       "    </tr>\n",
       "    <tr>\n",
       "      <th>5</th>\n",
       "      <td>22.0</td>\n",
       "      <td>MALE</td>\n",
       "      <td>7</td>\n",
       "      <td>0</td>\n",
       "      <td>NO</td>\n",
       "      <td>NaN</td>\n",
       "      <td>37.2</td>\n",
       "      <td>101</td>\n",
       "      <td>0</td>\n",
       "      <td>98</td>\n",
       "      <td>160</td>\n",
       "      <td>84</td>\n",
       "    </tr>\n",
       "    <tr>\n",
       "      <th>6</th>\n",
       "      <td>23.0</td>\n",
       "      <td>FEMALE</td>\n",
       "      <td>5</td>\n",
       "      <td>0</td>\n",
       "      <td>NO</td>\n",
       "      <td>NaN</td>\n",
       "      <td>0.0</td>\n",
       "      <td>0</td>\n",
       "      <td>0</td>\n",
       "      <td>0</td>\n",
       "      <td>0</td>\n",
       "      <td>0</td>\n",
       "    </tr>\n",
       "    <tr>\n",
       "      <th>7</th>\n",
       "      <td>23.0</td>\n",
       "      <td>FEMALE</td>\n",
       "      <td>4</td>\n",
       "      <td>0</td>\n",
       "      <td>NO</td>\n",
       "      <td>NaN</td>\n",
       "      <td>37.0</td>\n",
       "      <td>99</td>\n",
       "      <td>0</td>\n",
       "      <td>98</td>\n",
       "      <td>0</td>\n",
       "      <td>0</td>\n",
       "    </tr>\n",
       "    <tr>\n",
       "      <th>8</th>\n",
       "      <td>24.0</td>\n",
       "      <td>MALE</td>\n",
       "      <td>3</td>\n",
       "      <td>0</td>\n",
       "      <td>NO</td>\n",
       "      <td>NaN</td>\n",
       "      <td>0.0</td>\n",
       "      <td>0</td>\n",
       "      <td>0</td>\n",
       "      <td>0</td>\n",
       "      <td>0</td>\n",
       "      <td>0</td>\n",
       "    </tr>\n",
       "    <tr>\n",
       "      <th>9</th>\n",
       "      <td>24.0</td>\n",
       "      <td>MALE</td>\n",
       "      <td>6</td>\n",
       "      <td>0</td>\n",
       "      <td>NO</td>\n",
       "      <td>NaN</td>\n",
       "      <td>36.0</td>\n",
       "      <td>115</td>\n",
       "      <td>0</td>\n",
       "      <td>82</td>\n",
       "      <td>127</td>\n",
       "      <td>68</td>\n",
       "    </tr>\n",
       "  </tbody>\n",
       "</table>\n",
       "</div>"
      ],
      "text/plain": [
       "    age     sex  days_hospital  days_icu exitus destination  temp  heart_rate  \\\n",
       "0  15.0  FEMALE              4         0     NO         NaN  37.0           0   \n",
       "1  18.0  FEMALE              4         0     NO   ADMISSION  37.3         105   \n",
       "2  21.0    MALE              7         0     NO         NaN  38.5         112   \n",
       "3  21.0    MALE             10         0     NO   ADMISSION  39.2         113   \n",
       "4  22.0    MALE              4         0     NO         NaN  36.3          80   \n",
       "5  22.0    MALE              7         0     NO         NaN  37.2         101   \n",
       "6  23.0  FEMALE              5         0     NO         NaN   0.0           0   \n",
       "7  23.0  FEMALE              4         0     NO         NaN  37.0          99   \n",
       "8  24.0    MALE              3         0     NO         NaN   0.0           0   \n",
       "9  24.0    MALE              6         0     NO         NaN  36.0         115   \n",
       "\n",
       "   glucose  sat_o2  blood_pres_sys  blood_pres_dias  \n",
       "0        0      92               0                0  \n",
       "1        0      97               0                0  \n",
       "2        0      95              85               47  \n",
       "3        0      97               0                0  \n",
       "4        0      92             111               70  \n",
       "5        0      98             160               84  \n",
       "6        0       0               0                0  \n",
       "7        0      98               0                0  \n",
       "8        0       0               0                0  \n",
       "9        0      82             127               68  "
      ]
     },
     "execution_count": 78,
     "metadata": {},
     "output_type": "execute_result"
    }
   ],
   "source": [
    "print(f\"Number of patients: {df.shape[0]}\")\n",
    "print(f\"Number of variables to study: {df.shape[1]}\")\n",
    "df.head(10)"
   ]
  },
  {
   "cell_type": "code",
   "execution_count": 79,
   "id": "regulated-sensitivity",
   "metadata": {},
   "outputs": [
    {
     "name": "stdout",
     "output_type": "stream",
     "text": [
      "Data types in Covid-19 dataset: \n",
      "\n",
      "age                float64\n",
      "sex                 object\n",
      "days_hospital        int64\n",
      "days_icu             int64\n",
      "exitus              object\n",
      "destination         object\n",
      "temp               float64\n",
      "heart_rate           int64\n",
      "glucose              int64\n",
      "sat_o2               int64\n",
      "blood_pres_sys       int64\n",
      "blood_pres_dias      int64\n",
      "dtype: object\n"
     ]
    }
   ],
   "source": [
    "print(f\"Data types in Covid-19 dataset: \\n\\n{df.dtypes}\")"
   ]
  },
  {
   "cell_type": "markdown",
   "id": "yellow-shield",
   "metadata": {},
   "source": [
    "#### Analyzing basic metrics"
   ]
  },
  {
   "cell_type": "code",
   "execution_count": 80,
   "id": "beautiful-brazilian",
   "metadata": {},
   "outputs": [
    {
     "data": {
      "text/html": [
       "<div>\n",
       "<style scoped>\n",
       "    .dataframe tbody tr th:only-of-type {\n",
       "        vertical-align: middle;\n",
       "    }\n",
       "\n",
       "    .dataframe tbody tr th {\n",
       "        vertical-align: top;\n",
       "    }\n",
       "\n",
       "    .dataframe thead th {\n",
       "        text-align: right;\n",
       "    }\n",
       "</style>\n",
       "<table border=\"1\" class=\"dataframe\">\n",
       "  <thead>\n",
       "    <tr style=\"text-align: right;\">\n",
       "      <th></th>\n",
       "      <th>age</th>\n",
       "      <th>days_hospital</th>\n",
       "      <th>days_icu</th>\n",
       "      <th>temp</th>\n",
       "      <th>heart_rate</th>\n",
       "      <th>glucose</th>\n",
       "      <th>sat_o2</th>\n",
       "      <th>blood_pres_sys</th>\n",
       "      <th>blood_pres_dias</th>\n",
       "    </tr>\n",
       "  </thead>\n",
       "  <tbody>\n",
       "    <tr>\n",
       "      <th>count</th>\n",
       "      <td>2050.000000</td>\n",
       "      <td>2054.000000</td>\n",
       "      <td>2054.000000</td>\n",
       "      <td>2054.000000</td>\n",
       "      <td>2054.000000</td>\n",
       "      <td>2054.000000</td>\n",
       "      <td>2054.000000</td>\n",
       "      <td>2054.000000</td>\n",
       "      <td>2054.000000</td>\n",
       "    </tr>\n",
       "    <tr>\n",
       "      <th>mean</th>\n",
       "      <td>70.856585</td>\n",
       "      <td>8.118793</td>\n",
       "      <td>0.355404</td>\n",
       "      <td>28.386319</td>\n",
       "      <td>70.787731</td>\n",
       "      <td>1.776047</td>\n",
       "      <td>73.397760</td>\n",
       "      <td>83.571568</td>\n",
       "      <td>48.328140</td>\n",
       "    </tr>\n",
       "    <tr>\n",
       "      <th>std</th>\n",
       "      <td>20.456931</td>\n",
       "      <td>6.177872</td>\n",
       "      <td>2.173721</td>\n",
       "      <td>15.419158</td>\n",
       "      <td>41.802038</td>\n",
       "      <td>20.434622</td>\n",
       "      <td>37.863716</td>\n",
       "      <td>67.450853</td>\n",
       "      <td>44.225438</td>\n",
       "    </tr>\n",
       "    <tr>\n",
       "      <th>min</th>\n",
       "      <td>15.000000</td>\n",
       "      <td>0.000000</td>\n",
       "      <td>0.000000</td>\n",
       "      <td>0.000000</td>\n",
       "      <td>0.000000</td>\n",
       "      <td>0.000000</td>\n",
       "      <td>0.000000</td>\n",
       "      <td>0.000000</td>\n",
       "      <td>0.000000</td>\n",
       "    </tr>\n",
       "    <tr>\n",
       "      <th>25%</th>\n",
       "      <td>57.000000</td>\n",
       "      <td>4.000000</td>\n",
       "      <td>0.000000</td>\n",
       "      <td>35.400000</td>\n",
       "      <td>63.000000</td>\n",
       "      <td>0.000000</td>\n",
       "      <td>81.000000</td>\n",
       "      <td>0.000000</td>\n",
       "      <td>0.000000</td>\n",
       "    </tr>\n",
       "    <tr>\n",
       "      <th>50%</th>\n",
       "      <td>68.000000</td>\n",
       "      <td>7.000000</td>\n",
       "      <td>0.000000</td>\n",
       "      <td>36.400000</td>\n",
       "      <td>84.000000</td>\n",
       "      <td>0.000000</td>\n",
       "      <td>93.000000</td>\n",
       "      <td>115.000000</td>\n",
       "      <td>64.000000</td>\n",
       "    </tr>\n",
       "    <tr>\n",
       "      <th>75%</th>\n",
       "      <td>98.000000</td>\n",
       "      <td>10.000000</td>\n",
       "      <td>0.000000</td>\n",
       "      <td>36.900000</td>\n",
       "      <td>98.000000</td>\n",
       "      <td>0.000000</td>\n",
       "      <td>96.000000</td>\n",
       "      <td>137.000000</td>\n",
       "      <td>79.000000</td>\n",
       "    </tr>\n",
       "    <tr>\n",
       "      <th>max</th>\n",
       "      <td>189.000000</td>\n",
       "      <td>98.000000</td>\n",
       "      <td>36.000000</td>\n",
       "      <td>40.100000</td>\n",
       "      <td>593.000000</td>\n",
       "      <td>448.000000</td>\n",
       "      <td>99.000000</td>\n",
       "      <td>772.000000</td>\n",
       "      <td>845.000000</td>\n",
       "    </tr>\n",
       "  </tbody>\n",
       "</table>\n",
       "</div>"
      ],
      "text/plain": [
       "               age  days_hospital     days_icu         temp   heart_rate  \\\n",
       "count  2050.000000    2054.000000  2054.000000  2054.000000  2054.000000   \n",
       "mean     70.856585       8.118793     0.355404    28.386319    70.787731   \n",
       "std      20.456931       6.177872     2.173721    15.419158    41.802038   \n",
       "min      15.000000       0.000000     0.000000     0.000000     0.000000   \n",
       "25%      57.000000       4.000000     0.000000    35.400000    63.000000   \n",
       "50%      68.000000       7.000000     0.000000    36.400000    84.000000   \n",
       "75%      98.000000      10.000000     0.000000    36.900000    98.000000   \n",
       "max     189.000000      98.000000    36.000000    40.100000   593.000000   \n",
       "\n",
       "           glucose       sat_o2  blood_pres_sys  blood_pres_dias  \n",
       "count  2054.000000  2054.000000     2054.000000      2054.000000  \n",
       "mean      1.776047    73.397760       83.571568        48.328140  \n",
       "std      20.434622    37.863716       67.450853        44.225438  \n",
       "min       0.000000     0.000000        0.000000         0.000000  \n",
       "25%       0.000000    81.000000        0.000000         0.000000  \n",
       "50%       0.000000    93.000000      115.000000        64.000000  \n",
       "75%       0.000000    96.000000      137.000000        79.000000  \n",
       "max     448.000000    99.000000      772.000000       845.000000  "
      ]
     },
     "execution_count": 80,
     "metadata": {},
     "output_type": "execute_result"
    }
   ],
   "source": [
    "df.describe()"
   ]
  },
  {
   "cell_type": "markdown",
   "id": "flush-penny",
   "metadata": {},
   "source": [
    "#### Non-graphical univariate analysis\n",
    "##### Count  values"
   ]
  },
  {
   "cell_type": "code",
   "execution_count": 81,
   "id": "ahead-plate",
   "metadata": {
    "collapsed": true
   },
   "outputs": [
    {
     "data": {
      "text/plain": [
       "98.0     574\n",
       "77.0     140\n",
       "74.0     105\n",
       "72.0      94\n",
       "57.0      77\n",
       "        ... \n",
       "15.0       1\n",
       "106.0      1\n",
       "105.0      1\n",
       "18.0       1\n",
       "102.0      1\n",
       "Name: age, Length: 62, dtype: int64"
      ]
     },
     "execution_count": 81,
     "metadata": {},
     "output_type": "execute_result"
    }
   ],
   "source": [
    "df[\"age\"].value_counts()"
   ]
  },
  {
   "cell_type": "code",
   "execution_count": 82,
   "id": "color-publisher",
   "metadata": {
    "collapsed": true
   },
   "outputs": [
    {
     "data": {
      "text/plain": [
       "MALE      1227\n",
       "FEMALE     825\n",
       "Name: sex, dtype: int64"
      ]
     },
     "execution_count": 82,
     "metadata": {},
     "output_type": "execute_result"
    }
   ],
   "source": [
    "df[\"sex\"].value_counts()"
   ]
  },
  {
   "cell_type": "code",
   "execution_count": 83,
   "id": "nuclear-tattoo",
   "metadata": {
    "collapsed": true
   },
   "outputs": [
    {
     "data": {
      "text/plain": [
       "6     218\n",
       "5     214\n",
       "7     191\n",
       "8     171\n",
       "4     169\n",
       "3     154\n",
       "9     125\n",
       "2     115\n",
       "11    102\n",
       "10     86\n",
       "1      82\n",
       "12     69\n",
       "13     61\n",
       "14     48\n",
       "15     42\n",
       "16     34\n",
       "17     22\n",
       "0      21\n",
       "18     17\n",
       "19     16\n",
       "21     16\n",
       "23     12\n",
       "24     10\n",
       "20      9\n",
       "28      8\n",
       "25      8\n",
       "22      7\n",
       "26      5\n",
       "27      5\n",
       "36      3\n",
       "31      3\n",
       "29      2\n",
       "33      1\n",
       "47      1\n",
       "39      1\n",
       "51      1\n",
       "50      1\n",
       "98      1\n",
       "32      1\n",
       "34      1\n",
       "67      1\n",
       "Name: days_hospital, dtype: int64"
      ]
     },
     "execution_count": 83,
     "metadata": {},
     "output_type": "execute_result"
    }
   ],
   "source": [
    "df[\"days_hospital\"].value_counts()"
   ]
  },
  {
   "cell_type": "code",
   "execution_count": 84,
   "id": "gorgeous-frequency",
   "metadata": {
    "collapsed": true
   },
   "outputs": [
    {
     "data": {
      "text/plain": [
       "0     1947\n",
       "1       29\n",
       "2       11\n",
       "3        7\n",
       "8        6\n",
       "5        6\n",
       "6        6\n",
       "11       5\n",
       "9        5\n",
       "4        5\n",
       "7        4\n",
       "10       4\n",
       "16       3\n",
       "13       3\n",
       "24       2\n",
       "20       2\n",
       "12       2\n",
       "36       1\n",
       "14       1\n",
       "15       1\n",
       "19       1\n",
       "21       1\n",
       "25       1\n",
       "27       1\n",
       "Name: days_icu, dtype: int64"
      ]
     },
     "execution_count": 84,
     "metadata": {},
     "output_type": "execute_result"
    }
   ],
   "source": [
    "df[\"days_icu\"].value_counts()"
   ]
  },
  {
   "cell_type": "code",
   "execution_count": 85,
   "id": "favorite-brooklyn",
   "metadata": {
    "collapsed": true
   },
   "outputs": [
    {
     "data": {
      "text/plain": [
       "NO     1684\n",
       "YES     329\n",
       "Name: exitus, dtype: int64"
      ]
     },
     "execution_count": 85,
     "metadata": {},
     "output_type": "execute_result"
    }
   ],
   "source": [
    "df[\"exitus\"].value_counts()"
   ]
  },
  {
   "cell_type": "code",
   "execution_count": 86,
   "id": "olive-material",
   "metadata": {
    "collapsed": true
   },
   "outputs": [
    {
     "data": {
      "text/plain": [
       "ADMISSION    671\n",
       "Name: destination, dtype: int64"
      ]
     },
     "execution_count": 86,
     "metadata": {},
     "output_type": "execute_result"
    }
   ],
   "source": [
    "df[\"destination\"].value_counts()"
   ]
  },
  {
   "cell_type": "code",
   "execution_count": 87,
   "id": "academic-aggregate",
   "metadata": {
    "collapsed": true
   },
   "outputs": [
    {
     "data": {
      "text/plain": [
       "0.000000     467\n",
       "36.500000    129\n",
       "36.000000    116\n",
       "36.600000    108\n",
       "36.300000     93\n",
       "36.800000     86\n",
       "36.400000     80\n",
       "36.700000     77\n",
       "36.900000     74\n",
       "36.200000     72\n",
       "37.000000     67\n",
       "36.100000     60\n",
       "37.200000     50\n",
       "37.300000     44\n",
       "37.700000     40\n",
       "35.900000     34\n",
       "37.100000     32\n",
       "37.400000     32\n",
       "37.500000     27\n",
       "38.000000     27\n",
       "38.100000     27\n",
       "35.800000     24\n",
       "35.500000     24\n",
       "37.600000     22\n",
       "35.700000     22\n",
       "38.300000     20\n",
       "37.900000     18\n",
       "38.500000     18\n",
       "38.200000     17\n",
       "37.800000     17\n",
       "35.600000     16\n",
       "35.400000     15\n",
       "35.200000     12\n",
       "35.300000     11\n",
       "35.000000     10\n",
       "38.600000      9\n",
       "38.400000      8\n",
       "38.700000      8\n",
       "35.100000      8\n",
       "38.900000      7\n",
       "39.000000      6\n",
       "38.800000      5\n",
       "39.100000      3\n",
       "39.800000      2\n",
       "33.200000      1\n",
       "34.100000      1\n",
       "34.000000      1\n",
       "40.100000      1\n",
       "39.500000      1\n",
       "39.200000      1\n",
       "37.099998      1\n",
       "34.600000      1\n",
       "39.400000      1\n",
       "34.900000      1\n",
       "Name: temp, dtype: int64"
      ]
     },
     "execution_count": 87,
     "metadata": {},
     "output_type": "execute_result"
    }
   ],
   "source": [
    "df[\"temp\"].value_counts()"
   ]
  },
  {
   "cell_type": "code",
   "execution_count": 88,
   "id": "peripheral-debut",
   "metadata": {
    "collapsed": true
   },
   "outputs": [
    {
     "data": {
      "text/plain": [
       "0      448\n",
       "85      65\n",
       "80      55\n",
       "100     53\n",
       "84      46\n",
       "      ... \n",
       "140      1\n",
       "136      1\n",
       "52       1\n",
       "48       1\n",
       "593      1\n",
       "Name: heart_rate, Length: 101, dtype: int64"
      ]
     },
     "execution_count": 88,
     "metadata": {},
     "output_type": "execute_result"
    }
   ],
   "source": [
    "df[\"heart_rate\"].value_counts()"
   ]
  },
  {
   "cell_type": "code",
   "execution_count": 89,
   "id": "continuing-ethiopia",
   "metadata": {
    "collapsed": true
   },
   "outputs": [
    {
     "data": {
      "text/plain": [
       "0      2035\n",
       "80        1\n",
       "227       1\n",
       "219       1\n",
       "171       1\n",
       "139       1\n",
       "123       1\n",
       "111       1\n",
       "99        1\n",
       "97        1\n",
       "93        1\n",
       "448       1\n",
       "332       1\n",
       "272       1\n",
       "242       1\n",
       "214       1\n",
       "184       1\n",
       "170       1\n",
       "140       1\n",
       "287       1\n",
       "Name: glucose, dtype: int64"
      ]
     },
     "execution_count": 89,
     "metadata": {},
     "output_type": "execute_result"
    }
   ],
   "source": [
    "df[\"glucose\"].value_counts()"
   ]
  },
  {
   "cell_type": "code",
   "execution_count": 90,
   "id": "developed-pakistan",
   "metadata": {
    "collapsed": true
   },
   "outputs": [
    {
     "data": {
      "text/plain": [
       "0     422\n",
       "95    235\n",
       "94    187\n",
       "96    180\n",
       "97    135\n",
       "93    132\n",
       "92    113\n",
       "99    106\n",
       "98    102\n",
       "91     75\n",
       "90     74\n",
       "88     55\n",
       "89     33\n",
       "87     32\n",
       "85     25\n",
       "84     22\n",
       "80     15\n",
       "82     15\n",
       "86     13\n",
       "78     13\n",
       "70      9\n",
       "81      6\n",
       "60      6\n",
       "75      5\n",
       "83      5\n",
       "50      4\n",
       "76      4\n",
       "55      3\n",
       "74      3\n",
       "71      3\n",
       "73      3\n",
       "63      2\n",
       "64      2\n",
       "79      2\n",
       "68      2\n",
       "72      2\n",
       "40      1\n",
       "66      1\n",
       "10      1\n",
       "44      1\n",
       "57      1\n",
       "77      1\n",
       "53      1\n",
       "65      1\n",
       "45      1\n",
       "Name: sat_o2, dtype: int64"
      ]
     },
     "execution_count": 90,
     "metadata": {},
     "output_type": "execute_result"
    }
   ],
   "source": [
    "df[\"sat_o2\"].value_counts()"
   ]
  },
  {
   "cell_type": "code",
   "execution_count": 91,
   "id": "selected-coast",
   "metadata": {
    "collapsed": true
   },
   "outputs": [
    {
     "data": {
      "text/plain": [
       "0      750\n",
       "130     36\n",
       "140     34\n",
       "150     32\n",
       "135     30\n",
       "      ... \n",
       "67       1\n",
       "71       1\n",
       "75       1\n",
       "79       1\n",
       "199      1\n",
       "Name: blood_pres_sys, Length: 131, dtype: int64"
      ]
     },
     "execution_count": 91,
     "metadata": {},
     "output_type": "execute_result"
    }
   ],
   "source": [
    "df[\"blood_pres_sys\"].value_counts()"
   ]
  },
  {
   "cell_type": "code",
   "execution_count": 92,
   "id": "angry-prospect",
   "metadata": {
    "collapsed": true
   },
   "outputs": [
    {
     "data": {
      "text/plain": [
       "0      750\n",
       "70      58\n",
       "80      54\n",
       "78      49\n",
       "79      47\n",
       "      ... \n",
       "114      1\n",
       "108      1\n",
       "106      1\n",
       "42       1\n",
       "845      1\n",
       "Name: blood_pres_dias, Length: 82, dtype: int64"
      ]
     },
     "execution_count": 92,
     "metadata": {},
     "output_type": "execute_result"
    }
   ],
   "source": [
    "df[\"blood_pres_dias\"].value_counts()"
   ]
  },
  {
   "cell_type": "markdown",
   "id": "lightweight-affiliation",
   "metadata": {},
   "source": [
    "##### Unique values"
   ]
  },
  {
   "cell_type": "code",
   "execution_count": 93,
   "id": "beautiful-pantyhose",
   "metadata": {
    "collapsed": true
   },
   "outputs": [
    {
     "name": "stdout",
     "output_type": "stream",
     "text": [
      "[ 15.  18.  21.  22.  23.  24.  25.  26.  27.  28.  29.  30.  31.  32.\n",
      "  33.  34.  35.  36.  37.  38.  39.  40.  41.  42.  43.  44.  45.  46.\n",
      "  47.  48.  49.  50.  51.  52.  53.  54.  56.  57.  58.  59.  60.  61.\n",
      "  62.  63.  64.  65.  66.  67.  68.  69.  72.  73.  74.  77.  98.  99.\n",
      " 100. 101. 102. 105. 106. 189.  nan]\n"
     ]
    }
   ],
   "source": [
    "print(df[\"age\"].unique())"
   ]
  },
  {
   "cell_type": "code",
   "execution_count": 94,
   "id": "capable-challenge",
   "metadata": {
    "collapsed": true
   },
   "outputs": [
    {
     "name": "stdout",
     "output_type": "stream",
     "text": [
      "['FEMALE' 'MALE' nan]\n"
     ]
    }
   ],
   "source": [
    "print(df[\"sex\"].unique())"
   ]
  },
  {
   "cell_type": "code",
   "execution_count": 95,
   "id": "administrative-charger",
   "metadata": {
    "collapsed": true
   },
   "outputs": [
    {
     "name": "stdout",
     "output_type": "stream",
     "text": [
      "[ 4  7 10  5  3  6 14  0 11  1  2 12  8  9 19 21 15 16 18 20 13 23 22 17\n",
      " 26 25 29 27 24 50 36 34 28 51 47 31 33 39 67 32 98]\n"
     ]
    }
   ],
   "source": [
    "print(df[\"days_hospital\"].unique())"
   ]
  },
  {
   "cell_type": "code",
   "execution_count": 96,
   "id": "aggregate-truth",
   "metadata": {
    "collapsed": true
   },
   "outputs": [
    {
     "name": "stdout",
     "output_type": "stream",
     "text": [
      "[ 0  1  4 13 16  8  3  7 20  5  2 12  9 10 11 19 14  6 36 21 24 25 15 27]\n"
     ]
    }
   ],
   "source": [
    "print(df[\"days_icu\"].unique())"
   ]
  },
  {
   "cell_type": "code",
   "execution_count": 97,
   "id": "common-assembly",
   "metadata": {
    "collapsed": true
   },
   "outputs": [
    {
     "name": "stdout",
     "output_type": "stream",
     "text": [
      "['NO' nan 'YES']\n"
     ]
    }
   ],
   "source": [
    "print(df[\"exitus\"].unique())"
   ]
  },
  {
   "cell_type": "code",
   "execution_count": 98,
   "id": "minimal-shower",
   "metadata": {
    "collapsed": true
   },
   "outputs": [
    {
     "name": "stdout",
     "output_type": "stream",
     "text": [
      "[nan 'ADMISSION']\n"
     ]
    }
   ],
   "source": [
    "print(df[\"destination\"].unique())"
   ]
  },
  {
   "cell_type": "code",
   "execution_count": 99,
   "id": "handled-kitchen",
   "metadata": {
    "collapsed": true
   },
   "outputs": [
    {
     "name": "stdout",
     "output_type": "stream",
     "text": [
      "[37.         37.3        38.5        39.2        36.3        37.2\n",
      "  0.         36.         37.9        39.5        37.4        35.6\n",
      " 36.2        35.         38.3        39.8        37.7        36.4\n",
      " 38.         38.4        36.7        36.8        36.5        36.1\n",
      " 38.9        35.2        39.4        38.1        36.6        38.7\n",
      " 37.6        36.9        39.1        39.         37.8        35.8\n",
      " 38.2        35.7        38.6        38.8        37.5        37.1\n",
      " 35.9        35.5        40.1        35.3        35.1        34.\n",
      " 35.4        34.1        37.09999847 33.2        34.6        34.9       ]\n"
     ]
    }
   ],
   "source": [
    "print(df[\"temp\"].unique())"
   ]
  },
  {
   "cell_type": "code",
   "execution_count": 100,
   "id": "unexpected-engineering",
   "metadata": {
    "collapsed": true
   },
   "outputs": [
    {
     "name": "stdout",
     "output_type": "stream",
     "text": [
      "[  0 105 112 113  80 101  99 115  84 131  98 104  74  68 107  56 110  90\n",
      "  76 118 120  78  92 106  89  95  93  70 100 119  52  97  77 123 137 135\n",
      " 125 109 116  85  75  88  96  66  86 117  82  83 127  79 128 102  94 126\n",
      "  71  60 129 114 111  91 108 593  87  81 130 103  62  42  64  63 145  65\n",
      "  73 124  57  53 136 143  72 122  67 132 133  58  69 121  61  59 140  21\n",
      " 150  54 156 167  55 170  41  48  47  51 190]\n"
     ]
    }
   ],
   "source": [
    "print(df[\"heart_rate\"].unique())"
   ]
  },
  {
   "cell_type": "code",
   "execution_count": 101,
   "id": "black-gateway",
   "metadata": {
    "collapsed": true
   },
   "outputs": [
    {
     "name": "stdout",
     "output_type": "stream",
     "text": [
      "[  0 139 171  97  93 448 272  99 227 123 242 111 287 332 219 214 184 140\n",
      " 170  80]\n"
     ]
    }
   ],
   "source": [
    "print(df[\"glucose\"].unique())"
   ]
  },
  {
   "cell_type": "code",
   "execution_count": 102,
   "id": "foreign-claim",
   "metadata": {
    "collapsed": true
   },
   "outputs": [
    {
     "name": "stdout",
     "output_type": "stream",
     "text": [
      "[92 97 95 98  0 82 99 96 93 91 94 80 90 88 89 79 87 86 10 78 85 70 83 84\n",
      " 45 50 76 64 40 75 74 66 72 81 63 60 44 68 71 55 77 73 53 65 57]\n"
     ]
    }
   ],
   "source": [
    "print(df[\"sat_o2\"].unique())"
   ]
  },
  {
   "cell_type": "code",
   "execution_count": 103,
   "id": "secondary-house",
   "metadata": {
    "collapsed": true
   },
   "outputs": [
    {
     "name": "stdout",
     "output_type": "stream",
     "text": [
      "[  0  85 111 160 127 118 150 139 142 107 115 100 772 125 122 121 126 134\n",
      " 133 104 119 132 140 172 113 130 136  26 110 106 145  88 117 137 102 129\n",
      " 141 101 124 144 157 109 135 128 146 138 148 116 120 143 123 166 108  70\n",
      " 153 112 131  99 114  80 105 164  81 151 149  90 156 165  97  94 154 169\n",
      " 170 147 155  75 103 180 159 191  91  60 152  98 175 174 163 162 158 161\n",
      "  19  96 173  95  93 177 168  12 186  76 184  13 176  92 179 181 198 167\n",
      " 171  87 192  89 183  86  53  79 200  63 190  67 195 182 185 193  83  71\n",
      " 196  10  62 199  20]\n"
     ]
    }
   ],
   "source": [
    "print(df[\"blood_pres_sys\"].unique())"
   ]
  },
  {
   "cell_type": "code",
   "execution_count": 104,
   "id": "interracial-coating",
   "metadata": {
    "collapsed": true
   },
   "outputs": [
    {
     "name": "stdout",
     "output_type": "stream",
     "text": [
      "[  0  47  70  84  68  72  85  82  76  37  54  74  90  60  65  77  79  98\n",
      " 110  75  83  62  81  69  73  66  59  53  49  89  57  86  88  67  96  63\n",
      "  64  92  78  87  71  95 109  80 741  40  93  52  91 100  97  39  58  55\n",
      "  48 108  46 101 107 104 102  94  51 105  56  99  44 114  61  43  50 106\n",
      " 103  41  32  31  42  11 127 120 845  45]\n"
     ]
    }
   ],
   "source": [
    "print(df[\"blood_pres_dias\"].unique())"
   ]
  },
  {
   "cell_type": "markdown",
   "id": "fancy-calgary",
   "metadata": {},
   "source": [
    "##### Null values in the dataset"
   ]
  },
  {
   "cell_type": "code",
   "execution_count": 105,
   "id": "parliamentary-breathing",
   "metadata": {},
   "outputs": [
    {
     "data": {
      "text/plain": [
       "age                   4\n",
       "sex                   2\n",
       "days_hospital         0\n",
       "days_icu              0\n",
       "exitus               41\n",
       "destination        1383\n",
       "temp                  0\n",
       "heart_rate            0\n",
       "glucose               0\n",
       "sat_o2                0\n",
       "blood_pres_sys        0\n",
       "blood_pres_dias       0\n",
       "dtype: int64"
      ]
     },
     "execution_count": 105,
     "metadata": {},
     "output_type": "execute_result"
    }
   ],
   "source": [
    "df.apply(lambda x: sum(x.isnull()))"
   ]
  },
  {
   "cell_type": "markdown",
   "id": "threaded-terry",
   "metadata": {},
   "source": [
    "##### Data type conversion "
   ]
  },
  {
   "cell_type": "code",
   "execution_count": 106,
   "id": "proprietary-intro",
   "metadata": {},
   "outputs": [],
   "source": [
    "df[\"sex\"] = df[\"sex\"].astype(\"string\")\n",
    "df[\"exitus\"] = df[\"exitus\"].astype(\"string\")\n",
    "df[\"destination\"] = df[\"destination\"].astype(\"string\")"
   ]
  },
  {
   "cell_type": "markdown",
   "id": "working-chambers",
   "metadata": {},
   "source": [
    "##### Histograms"
   ]
  },
  {
   "cell_type": "code",
   "execution_count": 194,
   "id": "following-agreement",
   "metadata": {},
   "outputs": [
    {
     "data": {
      "image/png": "[encoded data removed]",
      "text/plain": [
       "<Figure size 1008x504 with 1 Axes>"
      ]
     },
     "metadata": {},
     "output_type": "display_data"
    }
   ],
   "source": [
    "plt.figure(figsize=(14,7))\n",
    "plt.style.use('seaborn-whitegrid')\n",
    "plt.hist(df[\"age\"], bins=len(df[\"age\"].unique()), facecolor='#2ab0ff', edgecolor='#e0e0e0', linewidth=0.5, alpha=0.7)\n",
    "plt.title('Age distribution', fontsize=20) \n",
    "plt.xlabel('Age value', fontsize=15) \n",
    "plt.ylabel('Count', fontsize=15) \n",
    "plt.show()"
   ]
  },
  {
   "cell_type": "code",
   "execution_count": 195,
   "id": "previous-advocate",
   "metadata": {},
   "outputs": [
    {
     "data": {
      "image/png": "[encoded data removed]",
      "text/plain": [
       "<Figure size 1008x504 with 1 Axes>"
      ]
     },
     "metadata": {},
     "output_type": "display_data"
    }
   ],
   "source": [
    "plt.figure(figsize=(14,7))\n",
    "plt.style.use('seaborn-whitegrid')\n",
    "plt.hist(df[\"days_hospital\"], bins=len(df[\"days_hospital\"].unique()), facecolor='#2ab0ff', edgecolor='#e0e0e0', linewidth=0.5, alpha=0.7)\n",
    "plt.title('Days_hospital distribution', fontsize=20) \n",
    "plt.xlabel('Days_hospital value', fontsize=15) \n",
    "plt.ylabel('Count', fontsize=15) \n",
    "plt.show()"
   ]
  },
  {
   "cell_type": "code",
   "execution_count": 196,
   "id": "considerable-vertex",
   "metadata": {},
   "outputs": [
    {
     "data": {
      "image/png": "[encoded data removed]",
      "text/plain": [
       "<Figure size 1008x504 with 1 Axes>"
      ]
     },
     "metadata": {},
     "output_type": "display_data"
    }
   ],
   "source": [
    "plt.figure(figsize=(14,7))\n",
    "plt.style.use('seaborn-whitegrid')\n",
    "plt.hist(df[\"days_icu\"], bins=len(df[\"days_icu\"].unique()), facecolor='#2ab0ff', edgecolor='#e0e0e0', linewidth=0.5, alpha=0.7)\n",
    "plt.title('Days_icu distribution', fontsize=20) \n",
    "plt.xlabel('Days_icu value', fontsize=15) \n",
    "plt.ylabel('Count', fontsize=15) \n",
    "plt.show()"
   ]
  },
  {
   "cell_type": "code",
   "execution_count": 197,
   "id": "conscious-postcard",
   "metadata": {},
   "outputs": [
    {
     "data": {
      "image/png": "[encoded data removed]",
      "text/plain": [
       "<Figure size 1008x504 with 1 Axes>"
      ]
     },
     "metadata": {},
     "output_type": "display_data"
    }
   ],
   "source": [
    "plt.figure(figsize=(14,7))\n",
    "plt.style.use('seaborn-whitegrid')\n",
    "plt.hist(df[\"temp\"], bins=len(df[\"temp\"].unique()), facecolor='#2ab0ff', edgecolor='#e0e0e0', linewidth=0.5, alpha=0.7)\n",
    "plt.title('Temp distribution', fontsize=20) \n",
    "plt.xlabel('Temp value', fontsize=15) \n",
    "plt.ylabel('Count', fontsize=15) \n",
    "plt.show()"
   ]
  },
  {
   "cell_type": "code",
   "execution_count": 198,
   "id": "tropical-rider",
   "metadata": {},
   "outputs": [
    {
     "data": {
      "image/png": "[encoded data removed]",
      "text/plain": [
       "<Figure size 1008x504 with 1 Axes>"
      ]
     },
     "metadata": {},
     "output_type": "display_data"
    }
   ],
   "source": [
    "plt.figure(figsize=(14,7))\n",
    "plt.style.use('seaborn-whitegrid')\n",
    "plt.hist(df[\"heart_rate\"], bins=len(df[\"heart_rate\"].unique()), facecolor='#2ab0ff', edgecolor='#e0e0e0', linewidth=0.5, alpha=0.7)\n",
    "plt.title('Heart_rate distribution', fontsize=20) \n",
    "plt.xlabel('Heart_rate value', fontsize=15) \n",
    "plt.ylabel('Count', fontsize=15) \n",
    "plt.show()"
   ]
  },
  {
   "cell_type": "code",
   "execution_count": 199,
   "id": "thousand-convertible",
   "metadata": {},
   "outputs": [
    {
     "data": {
      "image/png": "[encoded data removed]",
      "text/plain": [
       "<Figure size 1008x504 with 1 Axes>"
      ]
     },
     "metadata": {},
     "output_type": "display_data"
    }
   ],
   "source": [
    "plt.figure(figsize=(14,7))\n",
    "plt.style.use('seaborn-whitegrid')\n",
    "plt.hist(df[\"glucose\"], bins=len(df[\"glucose\"].unique()), facecolor='#2ab0ff', edgecolor='#e0e0e0', linewidth=0.5, alpha=0.7)\n",
    "plt.title('Glucose distribution', fontsize=20) \n",
    "plt.xlabel('Glucose value', fontsize=15) \n",
    "plt.ylabel('Count', fontsize=15) \n",
    "plt.show()"
   ]
  },
  {
   "cell_type": "code",
   "execution_count": 200,
   "id": "collectible-wiring",
   "metadata": {},
   "outputs": [
    {
     "data": {
      "image/png": "[encoded data removed]",
      "text/plain": [
       "<Figure size 1008x504 with 1 Axes>"
      ]
     },
     "metadata": {},
     "output_type": "display_data"
    }
   ],
   "source": [
    "plt.figure(figsize=(14,7))\n",
    "plt.style.use('seaborn-whitegrid')\n",
    "plt.hist(df[\"sat_o2\"], bins=len(df[\"sat_o2\"].unique()), facecolor='#2ab0ff', edgecolor='#e0e0e0', linewidth=0.5, alpha=0.7)\n",
    "plt.title('Sat_o2 distribution', fontsize=20) \n",
    "plt.xlabel('Sat_o2 value', fontsize=15) \n",
    "plt.ylabel('Count', fontsize=15) \n",
    "plt.show()"
   ]
  },
  {
   "cell_type": "code",
   "execution_count": 201,
   "id": "faced-creativity",
   "metadata": {},
   "outputs": [
    {
     "data": {
      "image/png": "[encoded data removed]",
      "text/plain": [
       "<Figure size 1008x504 with 1 Axes>"
      ]
     },
     "metadata": {},
     "output_type": "display_data"
    }
   ],
   "source": [
    "plt.figure(figsize=(14,7))\n",
    "plt.style.use('seaborn-whitegrid')\n",
    "plt.hist(df[\"blood_pres_sys\"], bins=len(df[\"blood_pres_sys\"].unique()), facecolor='#2ab0ff', edgecolor='#e0e0e0', linewidth=0.5, alpha=0.7)\n",
    "plt.title('Blood_pres_sys distribution', fontsize=20) \n",
    "plt.xlabel('Blood_pres_sys value', fontsize=15) \n",
    "plt.ylabel('Count', fontsize=15) \n",
    "plt.show()"
   ]
  },
  {
   "cell_type": "code",
   "execution_count": 155,
   "id": "structured-planet",
   "metadata": {},
   "outputs": [
    {
     "data": {
      "image/png": "[encoded data removed]",
      "text/plain": [
       "<Figure size 1008x504 with 1 Axes>"
      ]
     },
     "metadata": {},
     "output_type": "display_data"
    }
   ],
   "source": [
    "plt.figure(figsize=(14,7))\n",
    "plt.style.use('seaborn-whitegrid')\n",
    "plt.hist(df[\"blood_pres_dias\"], bins=len(df[\"blood_pres_dias\"].unique()), facecolor='#2ab0ff', edgecolor='#e0e0e0', linewidth=0.5, alpha=0.7)\n",
    "plt.title('Blood_pres_dias distribution', fontsize=20) \n",
    "plt.xlabel('Blood_pres_dias value', fontsize=15) \n",
    "plt.ylabel('Count', fontsize=15) \n",
    "plt.show()"
   ]
  },
  {
   "cell_type": "code",
   "execution_count": 168,
   "id": "indie-delight",
   "metadata": {},
   "outputs": [
    {
     "data": {
      "image/png": "[encoded data removed]",
      "text/plain": [
       "<Figure size 432x288 with 1 Axes>"
      ]
     },
     "metadata": {},
     "output_type": "display_data"
    }
   ],
   "source": [
    "sns.countplot(df[\"sex\"])\n",
    "plt.show()"
   ]
  },
  {
   "cell_type": "code",
   "execution_count": 164,
   "id": "attached-johns",
   "metadata": {},
   "outputs": [
    {
     "name": "stderr",
     "output_type": "stream",
     "text": [
      "/home/rafael/anaconda3/lib/python3.7/site-packages/seaborn/_decorators.py:43: FutureWarning: Pass the following variable as a keyword arg: x. From version 0.12, the only valid positional argument will be `data`, and passing other arguments without an explicit keyword will result in an error or misinterpretation.\n",
      "  FutureWarning\n"
     ]
    },
    {
     "data": {
      "image/png": "[encoded data removed]",
      "text/plain": [
       "<Figure size 432x288 with 1 Axes>"
      ]
     },
     "metadata": {},
     "output_type": "display_data"
    }
   ],
   "source": [
    "sns.countplot(df[\"exitus\"])\n",
    "plt.show()"
   ]
  },
  {
   "cell_type": "code",
   "execution_count": 165,
   "id": "complex-group",
   "metadata": {},
   "outputs": [
    {
     "name": "stderr",
     "output_type": "stream",
     "text": [
      "/home/rafael/anaconda3/lib/python3.7/site-packages/seaborn/_decorators.py:43: FutureWarning: Pass the following variable as a keyword arg: x. From version 0.12, the only valid positional argument will be `data`, and passing other arguments without an explicit keyword will result in an error or misinterpretation.\n",
      "  FutureWarning\n"
     ]
    },
    {
     "data": {
      "image/png": "[encoded data removed]",
      "text/plain": [
       "<Figure size 432x288 with 1 Axes>"
      ]
     },
     "metadata": {},
     "output_type": "display_data"
    }
   ],
   "source": [
    "sns.countplot(df[\"destination\"])\n",
    "plt.show()"
   ]
  },
  {
   "cell_type": "markdown",
   "id": "revised-opinion",
   "metadata": {},
   "source": [
    "##### Box-plot"
   ]
  },
  {
   "cell_type": "code",
   "execution_count": 217,
   "id": "elect-riverside",
   "metadata": {},
   "outputs": [
    {
     "data": {
      "image/png": "[encoded data removed]",
      "text/plain": [
       "<Figure size 1080x504 with 1 Axes>"
      ]
     },
     "metadata": {},
     "output_type": "display_data"
    }
   ],
   "source": [
    "fig, ax = plt.subplots(figsize=(15, 7))\n",
    "\n",
    "# Remove top and right border\n",
    "ax.spines['top'].set_visible(False)\n",
    "ax.spines['right'].set_visible(False)\n",
    "ax.spines['left'].set_visible(False)\n",
    "\n",
    "# Remove y-axis tick marks\n",
    "ax.yaxis.set_ticks_position('none')\n",
    "\n",
    "# Add major gridlines in the y-axis\n",
    "ax.grid(color='grey', axis='y', linestyle='-', linewidth=0.25, alpha=0.5)\n",
    "\n",
    "# Set plot title\n",
    "ax.set_title('Distribution each variable in the dataset')\n",
    "# Set species names as labels for the boxplot\n",
    "# dataset = [setosa_petal_length, versicolor_petal_length, virginica_petal_length]\n",
    "\n",
    "dataset = [df[\"age\"].dropna(), df[\"days_hospital\"], df[\"days_icu\"], df[\"temp\"], df[\"heart_rate\"], df[\"glucose\"], df[\"sat_o2\"], df[\"blood_pres_sys\"], df[\"blood_pres_dias\"]]\n",
    "labels = [\"age\", \"days_hospital\", \"days_icu\", \"temp\", \"heart_rate\", \"glucose\", \"sat_o2\", \"blood_pres_sys\", \"blood_pres_dias\"]\n",
    "ax.boxplot(dataset, labels=labels)\n",
    "plt.show()\n"
   ]
  },
  {
   "cell_type": "code",
   "execution_count": null,
   "id": "historical-purchase",
   "metadata": {},
   "outputs": [],
   "source": []
  },
  {
   "cell_type": "code",
   "execution_count": null,
   "id": "union-polls",
   "metadata": {},
   "outputs": [],
   "source": []
  },
  {
   "cell_type": "code",
   "execution_count": null,
   "id": "framed-setting",
   "metadata": {},
   "outputs": [],
   "source": [
    " "
   ]
  },
  {
   "cell_type": "code",
   "execution_count": null,
   "id": "developmental-equivalent",
   "metadata": {},
   "outputs": [],
   "source": []
  },
  {
   "cell_type": "code",
   "execution_count": null,
   "id": "further-furniture",
   "metadata": {},
   "outputs": [],
   "source": []
  },
  {
   "cell_type": "code",
   "execution_count": null,
   "id": "bored-parallel",
   "metadata": {},
   "outputs": [],
   "source": []
  },
  {
   "cell_type": "code",
   "execution_count": null,
   "id": "present-heaven",
   "metadata": {},
   "outputs": [],
   "source": []
  },
  {
   "cell_type": "code",
   "execution_count": null,
   "id": "tight-labor",
   "metadata": {},
   "outputs": [],
   "source": []
  },
  {
   "cell_type": "code",
   "execution_count": null,
   "id": "exempt-estimate",
   "metadata": {},
   "outputs": [],
   "source": []
  },
  {
   "cell_type": "code",
   "execution_count": null,
   "id": "regular-furniture",
   "metadata": {},
   "outputs": [],
   "source": []
  },
  {
   "cell_type": "markdown",
   "id": "purple-making",
   "metadata": {},
   "source": [
    "## Data preparation\n",
    "Now you have your data, prepare it, clean it, store it properly, update it, and arrange it in a meaningful way when it is ready."
   ]
  },
  {
   "cell_type": "markdown",
   "id": "trained-fault",
   "metadata": {},
   "source": [
    "## Data problem research\n",
    "Define your data problem and see if there are readily available solutions to it by service providers like Google Cloud, AWS or Azure, or any other API services. Try not to reinvent the wheel by building some generic models like recommender systems, OCRs, etc. These are now available in the plug-and-play fashion and are very cheap, cheaper than the time, energy, money, and computation power you will spend developing a half-accurate model."
   ]
  },
  {
   "cell_type": "markdown",
   "id": "other-shock",
   "metadata": {},
   "source": [
    "## Predictive model and data transformation\n",
    "Now quickly come up with simple models. Note that all solutions need not require machine learning or deep learning. Rule-based models work just as fine, sometimes even better. Transform your data based on a model that you have selected. In the first iteration, try all the simple models and decide on a benchmark."
   ]
  },
  {
   "cell_type": "markdown",
   "id": "governmental-governor",
   "metadata": {},
   "source": [
    "## Testing validation\n",
    "Define an evaluation metric based on your business problem and test your simple model in this metric. This metric will be your benchmark as we advance."
   ]
  },
  {
   "cell_type": "markdown",
   "id": "thermal-valve",
   "metadata": {},
   "source": [
    "## Model evaluation\n",
    "Based on your Validation, rework your model from step 6 and recalculate the evaluation metric to see if you can do better than the benchmark. It may happen that a simple model will solve your problem, but this is rare.\n",
    "One more insight that you will get from steps 5 and 6 is your data is sufficient or not. You may have to spend some more time on steps 2 and 3 then."
   ]
  },
  {
   "cell_type": "markdown",
   "id": "hollywood-cotton",
   "metadata": {},
   "source": [
    "## Solution deployment\n",
    "Now that you are happy with the evaluation and this model solves your problem deploy the model based on your use case. The best way to consume your model is to build an API around it and integrate that into the solution.\n",
    "If possible, deploy your model using Docker. Dockerization will help in easy deployment. Making an API around your model will help you upgrade without downtime.\n",
    "Deployment is one thing that is primarily dependent on how you want to consume the model."
   ]
  },
  {
   "cell_type": "markdown",
   "id": "driven-garbage",
   "metadata": {},
   "source": [
    "## Optimization\n",
    "Optimization is the last step and perhaps most crucial step as well, as, and when you collect more data, you should upgrade your model and see if it is appropriately solving your purpose. Did it solve the business problem of step 1? If not! Start over.\n"
   ]
  },
  {
   "cell_type": "code",
   "execution_count": null,
   "id": "interstate-april",
   "metadata": {},
   "outputs": [],
   "source": []
  }
 ],
 "metadata": {
  "kernelspec": {
   "display_name": "Python 3",
   "language": "python",
   "name": "python3"
  },
  "language_info": {
   "codemirror_mode": {
    "name": "ipython",
    "version": 3
   },
   "file_extension": ".py",
   "mimetype": "text/x-python",
   "name": "python",
   "nbconvert_exporter": "python",
   "pygments_lexer": "ipython3",
   "version": "3.7.6"
  }
 },
 "nbformat": 4,
 "nbformat_minor": 5
}
